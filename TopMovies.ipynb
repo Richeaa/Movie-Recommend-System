{
 "cells": [
  {
   "cell_type": "code",
   "execution_count": 1,
   "id": "b08bd039-2013-44ea-8cb5-fef600ee5d93",
   "metadata": {},
   "outputs": [],
   "source": [
    "import pandas as pd\n",
    "\n",
    "movies = pd.read_csv('top_1000_popular_movies_tmdb.csv', lineterminator='\\n', index_col = 0)"
   ]
  },
  {
   "cell_type": "code",
   "execution_count": 2,
   "id": "2a136ee5-1692-46ba-8348-29020675252c",
   "metadata": {},
   "outputs": [
    {
     "data": {
      "text/html": [
       "<div>\n",
       "<style scoped>\n",
       "    .dataframe tbody tr th:only-of-type {\n",
       "        vertical-align: middle;\n",
       "    }\n",
       "\n",
       "    .dataframe tbody tr th {\n",
       "        vertical-align: top;\n",
       "    }\n",
       "\n",
       "    .dataframe thead th {\n",
       "        text-align: right;\n",
       "    }\n",
       "</style>\n",
       "<table border=\"1\" class=\"dataframe\">\n",
       "  <thead>\n",
       "    <tr style=\"text-align: right;\">\n",
       "      <th></th>\n",
       "      <th>id</th>\n",
       "      <th>title</th>\n",
       "      <th>release_date</th>\n",
       "      <th>genres</th>\n",
       "      <th>original_language</th>\n",
       "      <th>vote_average</th>\n",
       "      <th>vote_count</th>\n",
       "      <th>popularity</th>\n",
       "      <th>overview</th>\n",
       "      <th>budget</th>\n",
       "      <th>production_companies</th>\n",
       "      <th>revenue</th>\n",
       "      <th>runtime</th>\n",
       "      <th>tagline</th>\n",
       "    </tr>\n",
       "  </thead>\n",
       "  <tbody>\n",
       "    <tr>\n",
       "      <th>0</th>\n",
       "      <td>385687</td>\n",
       "      <td>Fast X</td>\n",
       "      <td>2023-05-17</td>\n",
       "      <td>['Action', 'Crime', 'Thriller']</td>\n",
       "      <td>English</td>\n",
       "      <td>7.4</td>\n",
       "      <td>1347</td>\n",
       "      <td>8363.473</td>\n",
       "      <td>Over many missions and against impossible odds...</td>\n",
       "      <td>340000000</td>\n",
       "      <td>['Universal Pictures', 'Original Film', 'One R...</td>\n",
       "      <td>652000000</td>\n",
       "      <td>142</td>\n",
       "      <td>The end of the road begins.</td>\n",
       "    </tr>\n",
       "    <tr>\n",
       "      <th>1</th>\n",
       "      <td>603692</td>\n",
       "      <td>John Wick: Chapter 4</td>\n",
       "      <td>2023-03-22</td>\n",
       "      <td>['Action', 'Thriller', 'Crime']</td>\n",
       "      <td>English</td>\n",
       "      <td>7.9</td>\n",
       "      <td>2896</td>\n",
       "      <td>4210.313</td>\n",
       "      <td>With the price on his head ever increasing, Jo...</td>\n",
       "      <td>90000000</td>\n",
       "      <td>['Thunder Road', '87Eleven', 'Summit Entertain...</td>\n",
       "      <td>431769198</td>\n",
       "      <td>170</td>\n",
       "      <td>No way back, one way out.</td>\n",
       "    </tr>\n",
       "    <tr>\n",
       "      <th>2</th>\n",
       "      <td>502356</td>\n",
       "      <td>The Super Mario Bros. Movie</td>\n",
       "      <td>2023-04-05</td>\n",
       "      <td>['Animation', 'Family', 'Adventure', 'Fantasy'...</td>\n",
       "      <td>English</td>\n",
       "      <td>7.8</td>\n",
       "      <td>4628</td>\n",
       "      <td>3394.458</td>\n",
       "      <td>While working underground to fix a water main,...</td>\n",
       "      <td>100000000</td>\n",
       "      <td>['Universal Pictures', 'Illumination', 'Ninten...</td>\n",
       "      <td>1308766975</td>\n",
       "      <td>92</td>\n",
       "      <td>NaN</td>\n",
       "    </tr>\n",
       "    <tr>\n",
       "      <th>3</th>\n",
       "      <td>569094</td>\n",
       "      <td>Spider-Man: Across the Spider-Verse</td>\n",
       "      <td>2023-05-31</td>\n",
       "      <td>['Action', 'Adventure', 'Animation', 'Science ...</td>\n",
       "      <td>English</td>\n",
       "      <td>8.8</td>\n",
       "      <td>1160</td>\n",
       "      <td>2859.047</td>\n",
       "      <td>After reuniting with Gwen Stacy, Brooklyn’s fu...</td>\n",
       "      <td>100000000</td>\n",
       "      <td>['Columbia Pictures', 'Sony Pictures Animation...</td>\n",
       "      <td>313522201</td>\n",
       "      <td>140</td>\n",
       "      <td>It's how you wear the mask that matters</td>\n",
       "    </tr>\n",
       "    <tr>\n",
       "      <th>4</th>\n",
       "      <td>536437</td>\n",
       "      <td>Hypnotic</td>\n",
       "      <td>2023-05-11</td>\n",
       "      <td>['Mystery', 'Thriller', 'Science Fiction']</td>\n",
       "      <td>English</td>\n",
       "      <td>6.5</td>\n",
       "      <td>154</td>\n",
       "      <td>2654.854</td>\n",
       "      <td>A detective becomes entangled in a mystery inv...</td>\n",
       "      <td>70000000</td>\n",
       "      <td>['Studio 8', 'Solstice Productions', 'Ingeniou...</td>\n",
       "      <td>0</td>\n",
       "      <td>94</td>\n",
       "      <td>Control is an illusion.</td>\n",
       "    </tr>\n",
       "  </tbody>\n",
       "</table>\n",
       "</div>"
      ],
      "text/plain": [
       "       id                                title release_date  \\\n",
       "0  385687                               Fast X   2023-05-17   \n",
       "1  603692                 John Wick: Chapter 4   2023-03-22   \n",
       "2  502356          The Super Mario Bros. Movie   2023-04-05   \n",
       "3  569094  Spider-Man: Across the Spider-Verse   2023-05-31   \n",
       "4  536437                             Hypnotic   2023-05-11   \n",
       "\n",
       "                                              genres original_language  \\\n",
       "0                    ['Action', 'Crime', 'Thriller']           English   \n",
       "1                    ['Action', 'Thriller', 'Crime']           English   \n",
       "2  ['Animation', 'Family', 'Adventure', 'Fantasy'...           English   \n",
       "3  ['Action', 'Adventure', 'Animation', 'Science ...           English   \n",
       "4         ['Mystery', 'Thriller', 'Science Fiction']           English   \n",
       "\n",
       "   vote_average  vote_count  popularity  \\\n",
       "0           7.4        1347    8363.473   \n",
       "1           7.9        2896    4210.313   \n",
       "2           7.8        4628    3394.458   \n",
       "3           8.8        1160    2859.047   \n",
       "4           6.5         154    2654.854   \n",
       "\n",
       "                                            overview     budget  \\\n",
       "0  Over many missions and against impossible odds...  340000000   \n",
       "1  With the price on his head ever increasing, Jo...   90000000   \n",
       "2  While working underground to fix a water main,...  100000000   \n",
       "3  After reuniting with Gwen Stacy, Brooklyn’s fu...  100000000   \n",
       "4  A detective becomes entangled in a mystery inv...   70000000   \n",
       "\n",
       "                                production_companies     revenue  runtime  \\\n",
       "0  ['Universal Pictures', 'Original Film', 'One R...   652000000      142   \n",
       "1  ['Thunder Road', '87Eleven', 'Summit Entertain...   431769198      170   \n",
       "2  ['Universal Pictures', 'Illumination', 'Ninten...  1308766975       92   \n",
       "3  ['Columbia Pictures', 'Sony Pictures Animation...   313522201      140   \n",
       "4  ['Studio 8', 'Solstice Productions', 'Ingeniou...           0       94   \n",
       "\n",
       "                                   tagline  \n",
       "0              The end of the road begins.  \n",
       "1                No way back, one way out.  \n",
       "2                                      NaN  \n",
       "3  It's how you wear the mask that matters  \n",
       "4                  Control is an illusion.  "
      ]
     },
     "execution_count": 2,
     "metadata": {},
     "output_type": "execute_result"
    }
   ],
   "source": [
    "movies.head()"
   ]
  },
  {
   "cell_type": "code",
   "execution_count": 3,
   "id": "9e61a2ef-2edc-4959-a39a-0396b30a97a5",
   "metadata": {},
   "outputs": [
    {
     "data": {
      "text/plain": [
       "id                         0\n",
       "title                      0\n",
       "release_date              23\n",
       "genres                     0\n",
       "original_language          0\n",
       "vote_average               0\n",
       "vote_count                 0\n",
       "popularity                 0\n",
       "overview                  76\n",
       "budget                     0\n",
       "production_companies       0\n",
       "revenue                    0\n",
       "runtime                    0\n",
       "tagline                 2617\n",
       "dtype: int64"
      ]
     },
     "execution_count": 3,
     "metadata": {},
     "output_type": "execute_result"
    }
   ],
   "source": [
    "movies.isnull().sum()"
   ]
  },
  {
   "cell_type": "code",
   "execution_count": 4,
   "id": "194fc396-0a95-45cc-8fdb-6d191519b91b",
   "metadata": {},
   "outputs": [],
   "source": [
    "movies = movies.dropna().reset_index(drop=True)"
   ]
  },
  {
   "cell_type": "code",
   "execution_count": 5,
   "id": "925c71de-1a56-405c-8071-de63a823153e",
   "metadata": {},
   "outputs": [
    {
     "data": {
      "text/plain": [
       "id                      0\n",
       "title                   0\n",
       "release_date            0\n",
       "genres                  0\n",
       "original_language       0\n",
       "vote_average            0\n",
       "vote_count              0\n",
       "popularity              0\n",
       "overview                0\n",
       "budget                  0\n",
       "production_companies    0\n",
       "revenue                 0\n",
       "runtime                 0\n",
       "tagline                 0\n",
       "dtype: int64"
      ]
     },
     "execution_count": 5,
     "metadata": {},
     "output_type": "execute_result"
    }
   ],
   "source": [
    "movies.isnull().sum()"
   ]
  },
  {
   "cell_type": "code",
   "execution_count": 6,
   "id": "5941fb94-c656-4286-bf9a-c42de0275708",
   "metadata": {},
   "outputs": [
    {
     "data": {
      "text/plain": [
       "(7381, 14)"
      ]
     },
     "execution_count": 6,
     "metadata": {},
     "output_type": "execute_result"
    }
   ],
   "source": [
    "movies.shape"
   ]
  },
  {
   "cell_type": "code",
   "execution_count": 7,
   "id": "dd2ab80b-a421-4eef-b301-9ac1b42cad9d",
   "metadata": {},
   "outputs": [],
   "source": [
    "movies = movies[['id', 'title', 'genres', 'overview', 'tagline']]"
   ]
  },
  {
   "cell_type": "code",
   "execution_count": 8,
   "id": "95ef80e1-1cc2-475a-a935-07c2bf932464",
   "metadata": {},
   "outputs": [
    {
     "data": {
      "text/html": [
       "<div>\n",
       "<style scoped>\n",
       "    .dataframe tbody tr th:only-of-type {\n",
       "        vertical-align: middle;\n",
       "    }\n",
       "\n",
       "    .dataframe tbody tr th {\n",
       "        vertical-align: top;\n",
       "    }\n",
       "\n",
       "    .dataframe thead th {\n",
       "        text-align: right;\n",
       "    }\n",
       "</style>\n",
       "<table border=\"1\" class=\"dataframe\">\n",
       "  <thead>\n",
       "    <tr style=\"text-align: right;\">\n",
       "      <th></th>\n",
       "      <th>id</th>\n",
       "      <th>title</th>\n",
       "      <th>genres</th>\n",
       "      <th>overview</th>\n",
       "      <th>tagline</th>\n",
       "    </tr>\n",
       "  </thead>\n",
       "  <tbody>\n",
       "    <tr>\n",
       "      <th>0</th>\n",
       "      <td>385687</td>\n",
       "      <td>Fast X</td>\n",
       "      <td>['Action', 'Crime', 'Thriller']</td>\n",
       "      <td>Over many missions and against impossible odds...</td>\n",
       "      <td>The end of the road begins.</td>\n",
       "    </tr>\n",
       "    <tr>\n",
       "      <th>1</th>\n",
       "      <td>603692</td>\n",
       "      <td>John Wick: Chapter 4</td>\n",
       "      <td>['Action', 'Thriller', 'Crime']</td>\n",
       "      <td>With the price on his head ever increasing, Jo...</td>\n",
       "      <td>No way back, one way out.</td>\n",
       "    </tr>\n",
       "    <tr>\n",
       "      <th>2</th>\n",
       "      <td>569094</td>\n",
       "      <td>Spider-Man: Across the Spider-Verse</td>\n",
       "      <td>['Action', 'Adventure', 'Animation', 'Science ...</td>\n",
       "      <td>After reuniting with Gwen Stacy, Brooklyn’s fu...</td>\n",
       "      <td>It's how you wear the mask that matters</td>\n",
       "    </tr>\n",
       "    <tr>\n",
       "      <th>3</th>\n",
       "      <td>536437</td>\n",
       "      <td>Hypnotic</td>\n",
       "      <td>['Mystery', 'Thriller', 'Science Fiction']</td>\n",
       "      <td>A detective becomes entangled in a mystery inv...</td>\n",
       "      <td>Control is an illusion.</td>\n",
       "    </tr>\n",
       "    <tr>\n",
       "      <th>4</th>\n",
       "      <td>667538</td>\n",
       "      <td>Transformers: Rise of the Beasts</td>\n",
       "      <td>['Action', 'Adventure', 'Science Fiction']</td>\n",
       "      <td>When a new threat capable of destroying the en...</td>\n",
       "      <td>Unite or fall.</td>\n",
       "    </tr>\n",
       "  </tbody>\n",
       "</table>\n",
       "</div>"
      ],
      "text/plain": [
       "       id                                title  \\\n",
       "0  385687                               Fast X   \n",
       "1  603692                 John Wick: Chapter 4   \n",
       "2  569094  Spider-Man: Across the Spider-Verse   \n",
       "3  536437                             Hypnotic   \n",
       "4  667538     Transformers: Rise of the Beasts   \n",
       "\n",
       "                                              genres  \\\n",
       "0                    ['Action', 'Crime', 'Thriller']   \n",
       "1                    ['Action', 'Thriller', 'Crime']   \n",
       "2  ['Action', 'Adventure', 'Animation', 'Science ...   \n",
       "3         ['Mystery', 'Thriller', 'Science Fiction']   \n",
       "4         ['Action', 'Adventure', 'Science Fiction']   \n",
       "\n",
       "                                            overview  \\\n",
       "0  Over many missions and against impossible odds...   \n",
       "1  With the price on his head ever increasing, Jo...   \n",
       "2  After reuniting with Gwen Stacy, Brooklyn’s fu...   \n",
       "3  A detective becomes entangled in a mystery inv...   \n",
       "4  When a new threat capable of destroying the en...   \n",
       "\n",
       "                                   tagline  \n",
       "0              The end of the road begins.  \n",
       "1                No way back, one way out.  \n",
       "2  It's how you wear the mask that matters  \n",
       "3                  Control is an illusion.  \n",
       "4                           Unite or fall.  "
      ]
     },
     "execution_count": 8,
     "metadata": {},
     "output_type": "execute_result"
    }
   ],
   "source": [
    "movies.head()"
   ]
  },
  {
   "cell_type": "code",
   "execution_count": 9,
   "id": "33acdf91-6688-4161-bd38-ac2a7110a0e1",
   "metadata": {},
   "outputs": [
    {
     "name": "stdout",
     "output_type": "stream",
     "text": [
      "<class 'pandas.core.frame.DataFrame'>\n",
      "RangeIndex: 7381 entries, 0 to 7380\n",
      "Data columns (total 5 columns):\n",
      " #   Column    Non-Null Count  Dtype \n",
      "---  ------    --------------  ----- \n",
      " 0   id        7381 non-null   int64 \n",
      " 1   title     7381 non-null   object\n",
      " 2   genres    7381 non-null   object\n",
      " 3   overview  7381 non-null   object\n",
      " 4   tagline   7381 non-null   object\n",
      "dtypes: int64(1), object(4)\n",
      "memory usage: 288.4+ KB\n"
     ]
    }
   ],
   "source": [
    "movies.info()"
   ]
  },
  {
   "cell_type": "code",
   "execution_count": 10,
   "id": "9bf5115b-ab2e-449b-9143-c8869bdee6e6",
   "metadata": {},
   "outputs": [],
   "source": [
    "import ast\n",
    "\n",
    "movies['genres'] = movies['genres'].apply(ast.literal_eval)"
   ]
  },
  {
   "cell_type": "code",
   "execution_count": 11,
   "id": "8e1a6878-f16c-44c1-ab6f-a4a004fd991c",
   "metadata": {},
   "outputs": [],
   "source": [
    "movies['genres'] = movies['genres'].apply(lambda x:[i.replace(\" \", \"\") for i in x])"
   ]
  },
  {
   "cell_type": "code",
   "execution_count": 12,
   "id": "3931a8ae-b0fa-4a3d-9778-988bccad9e2d",
   "metadata": {},
   "outputs": [
    {
     "data": {
      "text/plain": [
       "\"Over many missions and against impossible odds, Dom Toretto and his family have outsmarted, out-nerved and outdriven every foe in their path. Now, they confront the most lethal opponent they've ever faced: A terrifying threat emerging from the shadows of the past who's fueled by blood revenge, and who is determined to shatter this family and destroy everything—and everyone—that Dom loves, forever.\""
      ]
     },
     "execution_count": 12,
     "metadata": {},
     "output_type": "execute_result"
    }
   ],
   "source": [
    "movies['overview'][0]"
   ]
  },
  {
   "cell_type": "code",
   "execution_count": 13,
   "id": "df494325-71f7-429e-b5d1-ae318952eac9",
   "metadata": {},
   "outputs": [],
   "source": [
    "movies['overview'] = movies['overview'].apply(lambda x:x.split())"
   ]
  },
  {
   "cell_type": "code",
   "execution_count": 14,
   "id": "c4dab8b7-b499-4ebb-8da1-38924e03ff9d",
   "metadata": {},
   "outputs": [],
   "source": [
    "movies['tagline'] = movies['tagline'].apply(lambda x:x.split())"
   ]
  },
  {
   "cell_type": "code",
   "execution_count": 15,
   "id": "d75ae753-4eea-42c1-b92a-e99e424476c1",
   "metadata": {},
   "outputs": [
    {
     "data": {
      "text/html": [
       "<div>\n",
       "<style scoped>\n",
       "    .dataframe tbody tr th:only-of-type {\n",
       "        vertical-align: middle;\n",
       "    }\n",
       "\n",
       "    .dataframe tbody tr th {\n",
       "        vertical-align: top;\n",
       "    }\n",
       "\n",
       "    .dataframe thead th {\n",
       "        text-align: right;\n",
       "    }\n",
       "</style>\n",
       "<table border=\"1\" class=\"dataframe\">\n",
       "  <thead>\n",
       "    <tr style=\"text-align: right;\">\n",
       "      <th></th>\n",
       "      <th>id</th>\n",
       "      <th>title</th>\n",
       "      <th>genres</th>\n",
       "      <th>overview</th>\n",
       "      <th>tagline</th>\n",
       "    </tr>\n",
       "  </thead>\n",
       "  <tbody>\n",
       "    <tr>\n",
       "      <th>0</th>\n",
       "      <td>385687</td>\n",
       "      <td>Fast X</td>\n",
       "      <td>[Action, Crime, Thriller]</td>\n",
       "      <td>[Over, many, missions, and, against, impossibl...</td>\n",
       "      <td>[The, end, of, the, road, begins.]</td>\n",
       "    </tr>\n",
       "    <tr>\n",
       "      <th>1</th>\n",
       "      <td>603692</td>\n",
       "      <td>John Wick: Chapter 4</td>\n",
       "      <td>[Action, Thriller, Crime]</td>\n",
       "      <td>[With, the, price, on, his, head, ever, increa...</td>\n",
       "      <td>[No, way, back,, one, way, out.]</td>\n",
       "    </tr>\n",
       "    <tr>\n",
       "      <th>2</th>\n",
       "      <td>569094</td>\n",
       "      <td>Spider-Man: Across the Spider-Verse</td>\n",
       "      <td>[Action, Adventure, Animation, ScienceFiction]</td>\n",
       "      <td>[After, reuniting, with, Gwen, Stacy,, Brookly...</td>\n",
       "      <td>[It's, how, you, wear, the, mask, that, matters]</td>\n",
       "    </tr>\n",
       "    <tr>\n",
       "      <th>3</th>\n",
       "      <td>536437</td>\n",
       "      <td>Hypnotic</td>\n",
       "      <td>[Mystery, Thriller, ScienceFiction]</td>\n",
       "      <td>[A, detective, becomes, entangled, in, a, myst...</td>\n",
       "      <td>[Control, is, an, illusion.]</td>\n",
       "    </tr>\n",
       "    <tr>\n",
       "      <th>4</th>\n",
       "      <td>667538</td>\n",
       "      <td>Transformers: Rise of the Beasts</td>\n",
       "      <td>[Action, Adventure, ScienceFiction]</td>\n",
       "      <td>[When, a, new, threat, capable, of, destroying...</td>\n",
       "      <td>[Unite, or, fall.]</td>\n",
       "    </tr>\n",
       "  </tbody>\n",
       "</table>\n",
       "</div>"
      ],
      "text/plain": [
       "       id                                title  \\\n",
       "0  385687                               Fast X   \n",
       "1  603692                 John Wick: Chapter 4   \n",
       "2  569094  Spider-Man: Across the Spider-Verse   \n",
       "3  536437                             Hypnotic   \n",
       "4  667538     Transformers: Rise of the Beasts   \n",
       "\n",
       "                                           genres  \\\n",
       "0                       [Action, Crime, Thriller]   \n",
       "1                       [Action, Thriller, Crime]   \n",
       "2  [Action, Adventure, Animation, ScienceFiction]   \n",
       "3             [Mystery, Thriller, ScienceFiction]   \n",
       "4             [Action, Adventure, ScienceFiction]   \n",
       "\n",
       "                                            overview  \\\n",
       "0  [Over, many, missions, and, against, impossibl...   \n",
       "1  [With, the, price, on, his, head, ever, increa...   \n",
       "2  [After, reuniting, with, Gwen, Stacy,, Brookly...   \n",
       "3  [A, detective, becomes, entangled, in, a, myst...   \n",
       "4  [When, a, new, threat, capable, of, destroying...   \n",
       "\n",
       "                                            tagline  \n",
       "0                [The, end, of, the, road, begins.]  \n",
       "1                  [No, way, back,, one, way, out.]  \n",
       "2  [It's, how, you, wear, the, mask, that, matters]  \n",
       "3                      [Control, is, an, illusion.]  \n",
       "4                                [Unite, or, fall.]  "
      ]
     },
     "execution_count": 15,
     "metadata": {},
     "output_type": "execute_result"
    }
   ],
   "source": [
    "movies.head()"
   ]
  },
  {
   "cell_type": "code",
   "execution_count": 16,
   "id": "b5f9344f-0ef0-49da-af8a-8329bc751e9f",
   "metadata": {},
   "outputs": [],
   "source": [
    "movies['tags'] = movies['overview'] + movies['tagline'] + movies['genres']"
   ]
  },
  {
   "cell_type": "code",
   "execution_count": 17,
   "id": "62f583b6-e991-4a47-b233-780f017e6713",
   "metadata": {},
   "outputs": [
    {
     "data": {
      "text/html": [
       "<div>\n",
       "<style scoped>\n",
       "    .dataframe tbody tr th:only-of-type {\n",
       "        vertical-align: middle;\n",
       "    }\n",
       "\n",
       "    .dataframe tbody tr th {\n",
       "        vertical-align: top;\n",
       "    }\n",
       "\n",
       "    .dataframe thead th {\n",
       "        text-align: right;\n",
       "    }\n",
       "</style>\n",
       "<table border=\"1\" class=\"dataframe\">\n",
       "  <thead>\n",
       "    <tr style=\"text-align: right;\">\n",
       "      <th></th>\n",
       "      <th>id</th>\n",
       "      <th>title</th>\n",
       "      <th>genres</th>\n",
       "      <th>overview</th>\n",
       "      <th>tagline</th>\n",
       "      <th>tags</th>\n",
       "    </tr>\n",
       "  </thead>\n",
       "  <tbody>\n",
       "    <tr>\n",
       "      <th>0</th>\n",
       "      <td>385687</td>\n",
       "      <td>Fast X</td>\n",
       "      <td>[Action, Crime, Thriller]</td>\n",
       "      <td>[Over, many, missions, and, against, impossibl...</td>\n",
       "      <td>[The, end, of, the, road, begins.]</td>\n",
       "      <td>[Over, many, missions, and, against, impossibl...</td>\n",
       "    </tr>\n",
       "    <tr>\n",
       "      <th>1</th>\n",
       "      <td>603692</td>\n",
       "      <td>John Wick: Chapter 4</td>\n",
       "      <td>[Action, Thriller, Crime]</td>\n",
       "      <td>[With, the, price, on, his, head, ever, increa...</td>\n",
       "      <td>[No, way, back,, one, way, out.]</td>\n",
       "      <td>[With, the, price, on, his, head, ever, increa...</td>\n",
       "    </tr>\n",
       "    <tr>\n",
       "      <th>2</th>\n",
       "      <td>569094</td>\n",
       "      <td>Spider-Man: Across the Spider-Verse</td>\n",
       "      <td>[Action, Adventure, Animation, ScienceFiction]</td>\n",
       "      <td>[After, reuniting, with, Gwen, Stacy,, Brookly...</td>\n",
       "      <td>[It's, how, you, wear, the, mask, that, matters]</td>\n",
       "      <td>[After, reuniting, with, Gwen, Stacy,, Brookly...</td>\n",
       "    </tr>\n",
       "    <tr>\n",
       "      <th>3</th>\n",
       "      <td>536437</td>\n",
       "      <td>Hypnotic</td>\n",
       "      <td>[Mystery, Thriller, ScienceFiction]</td>\n",
       "      <td>[A, detective, becomes, entangled, in, a, myst...</td>\n",
       "      <td>[Control, is, an, illusion.]</td>\n",
       "      <td>[A, detective, becomes, entangled, in, a, myst...</td>\n",
       "    </tr>\n",
       "    <tr>\n",
       "      <th>4</th>\n",
       "      <td>667538</td>\n",
       "      <td>Transformers: Rise of the Beasts</td>\n",
       "      <td>[Action, Adventure, ScienceFiction]</td>\n",
       "      <td>[When, a, new, threat, capable, of, destroying...</td>\n",
       "      <td>[Unite, or, fall.]</td>\n",
       "      <td>[When, a, new, threat, capable, of, destroying...</td>\n",
       "    </tr>\n",
       "  </tbody>\n",
       "</table>\n",
       "</div>"
      ],
      "text/plain": [
       "       id                                title  \\\n",
       "0  385687                               Fast X   \n",
       "1  603692                 John Wick: Chapter 4   \n",
       "2  569094  Spider-Man: Across the Spider-Verse   \n",
       "3  536437                             Hypnotic   \n",
       "4  667538     Transformers: Rise of the Beasts   \n",
       "\n",
       "                                           genres  \\\n",
       "0                       [Action, Crime, Thriller]   \n",
       "1                       [Action, Thriller, Crime]   \n",
       "2  [Action, Adventure, Animation, ScienceFiction]   \n",
       "3             [Mystery, Thriller, ScienceFiction]   \n",
       "4             [Action, Adventure, ScienceFiction]   \n",
       "\n",
       "                                            overview  \\\n",
       "0  [Over, many, missions, and, against, impossibl...   \n",
       "1  [With, the, price, on, his, head, ever, increa...   \n",
       "2  [After, reuniting, with, Gwen, Stacy,, Brookly...   \n",
       "3  [A, detective, becomes, entangled, in, a, myst...   \n",
       "4  [When, a, new, threat, capable, of, destroying...   \n",
       "\n",
       "                                            tagline  \\\n",
       "0                [The, end, of, the, road, begins.]   \n",
       "1                  [No, way, back,, one, way, out.]   \n",
       "2  [It's, how, you, wear, the, mask, that, matters]   \n",
       "3                      [Control, is, an, illusion.]   \n",
       "4                                [Unite, or, fall.]   \n",
       "\n",
       "                                                tags  \n",
       "0  [Over, many, missions, and, against, impossibl...  \n",
       "1  [With, the, price, on, his, head, ever, increa...  \n",
       "2  [After, reuniting, with, Gwen, Stacy,, Brookly...  \n",
       "3  [A, detective, becomes, entangled, in, a, myst...  \n",
       "4  [When, a, new, threat, capable, of, destroying...  "
      ]
     },
     "execution_count": 17,
     "metadata": {},
     "output_type": "execute_result"
    }
   ],
   "source": [
    "movies.head()"
   ]
  },
  {
   "cell_type": "code",
   "execution_count": 18,
   "id": "3f86b4a6-77d2-4b37-b2b6-bb47ffa312b9",
   "metadata": {},
   "outputs": [],
   "source": [
    "new_df = movies[['id', 'title', 'tags']]"
   ]
  },
  {
   "cell_type": "code",
   "execution_count": 21,
   "id": "388ea425-da1e-4c30-a2a5-9b880bfaaf8c",
   "metadata": {},
   "outputs": [
    {
     "name": "stderr",
     "output_type": "stream",
     "text": [
      "C:\\Users\\MS1\\AppData\\Local\\Temp\\ipykernel_2040\\3089450492.py:1: SettingWithCopyWarning: \n",
      "A value is trying to be set on a copy of a slice from a DataFrame.\n",
      "Try using .loc[row_indexer,col_indexer] = value instead\n",
      "\n",
      "See the caveats in the documentation: https://pandas.pydata.org/pandas-docs/stable/user_guide/indexing.html#returning-a-view-versus-a-copy\n",
      "  new_df['tags'] = new_df['tags'].apply(lambda x:\" \".join(x))\n"
     ]
    }
   ],
   "source": [
    "new_df['tags'] = new_df['tags'].apply(lambda x:\" \".join(x))"
   ]
  },
  {
   "cell_type": "code",
   "execution_count": 22,
   "id": "4283eb05-316e-4a4e-a792-9cb3e5f737de",
   "metadata": {},
   "outputs": [
    {
     "data": {
      "text/html": [
       "<div>\n",
       "<style scoped>\n",
       "    .dataframe tbody tr th:only-of-type {\n",
       "        vertical-align: middle;\n",
       "    }\n",
       "\n",
       "    .dataframe tbody tr th {\n",
       "        vertical-align: top;\n",
       "    }\n",
       "\n",
       "    .dataframe thead th {\n",
       "        text-align: right;\n",
       "    }\n",
       "</style>\n",
       "<table border=\"1\" class=\"dataframe\">\n",
       "  <thead>\n",
       "    <tr style=\"text-align: right;\">\n",
       "      <th></th>\n",
       "      <th>id</th>\n",
       "      <th>title</th>\n",
       "      <th>tags</th>\n",
       "    </tr>\n",
       "  </thead>\n",
       "  <tbody>\n",
       "    <tr>\n",
       "      <th>0</th>\n",
       "      <td>385687</td>\n",
       "      <td>Fast X</td>\n",
       "      <td>Over many missions and against impossible odds...</td>\n",
       "    </tr>\n",
       "    <tr>\n",
       "      <th>1</th>\n",
       "      <td>603692</td>\n",
       "      <td>John Wick: Chapter 4</td>\n",
       "      <td>With the price on his head ever increasing, Jo...</td>\n",
       "    </tr>\n",
       "    <tr>\n",
       "      <th>2</th>\n",
       "      <td>569094</td>\n",
       "      <td>Spider-Man: Across the Spider-Verse</td>\n",
       "      <td>After reuniting with Gwen Stacy, Brooklyn’s fu...</td>\n",
       "    </tr>\n",
       "    <tr>\n",
       "      <th>3</th>\n",
       "      <td>536437</td>\n",
       "      <td>Hypnotic</td>\n",
       "      <td>A detective becomes entangled in a mystery inv...</td>\n",
       "    </tr>\n",
       "    <tr>\n",
       "      <th>4</th>\n",
       "      <td>667538</td>\n",
       "      <td>Transformers: Rise of the Beasts</td>\n",
       "      <td>When a new threat capable of destroying the en...</td>\n",
       "    </tr>\n",
       "  </tbody>\n",
       "</table>\n",
       "</div>"
      ],
      "text/plain": [
       "       id                                title  \\\n",
       "0  385687                               Fast X   \n",
       "1  603692                 John Wick: Chapter 4   \n",
       "2  569094  Spider-Man: Across the Spider-Verse   \n",
       "3  536437                             Hypnotic   \n",
       "4  667538     Transformers: Rise of the Beasts   \n",
       "\n",
       "                                                tags  \n",
       "0  Over many missions and against impossible odds...  \n",
       "1  With the price on his head ever increasing, Jo...  \n",
       "2  After reuniting with Gwen Stacy, Brooklyn’s fu...  \n",
       "3  A detective becomes entangled in a mystery inv...  \n",
       "4  When a new threat capable of destroying the en...  "
      ]
     },
     "execution_count": 22,
     "metadata": {},
     "output_type": "execute_result"
    }
   ],
   "source": [
    "new_df.head()"
   ]
  },
  {
   "cell_type": "code",
   "execution_count": 24,
   "id": "3c54b71d-5d47-4523-9a78-88728d2c1b5e",
   "metadata": {},
   "outputs": [
    {
     "name": "stderr",
     "output_type": "stream",
     "text": [
      "C:\\Users\\MS1\\AppData\\Local\\Temp\\ipykernel_2040\\3214958533.py:1: SettingWithCopyWarning: \n",
      "A value is trying to be set on a copy of a slice from a DataFrame.\n",
      "Try using .loc[row_indexer,col_indexer] = value instead\n",
      "\n",
      "See the caveats in the documentation: https://pandas.pydata.org/pandas-docs/stable/user_guide/indexing.html#returning-a-view-versus-a-copy\n",
      "  new_df['tags'] = new_df['tags'].apply(lambda x:x.lower())\n"
     ]
    }
   ],
   "source": [
    "new_df['tags'] = new_df['tags'].apply(lambda x:x.lower())"
   ]
  },
  {
   "cell_type": "code",
   "execution_count": 26,
   "id": "93515ac0-699b-41e0-b259-d1a2a35b2efb",
   "metadata": {},
   "outputs": [
    {
     "data": {
      "text/html": [
       "<div>\n",
       "<style scoped>\n",
       "    .dataframe tbody tr th:only-of-type {\n",
       "        vertical-align: middle;\n",
       "    }\n",
       "\n",
       "    .dataframe tbody tr th {\n",
       "        vertical-align: top;\n",
       "    }\n",
       "\n",
       "    .dataframe thead th {\n",
       "        text-align: right;\n",
       "    }\n",
       "</style>\n",
       "<table border=\"1\" class=\"dataframe\">\n",
       "  <thead>\n",
       "    <tr style=\"text-align: right;\">\n",
       "      <th></th>\n",
       "      <th>id</th>\n",
       "      <th>title</th>\n",
       "      <th>tags</th>\n",
       "    </tr>\n",
       "  </thead>\n",
       "  <tbody>\n",
       "    <tr>\n",
       "      <th>0</th>\n",
       "      <td>385687</td>\n",
       "      <td>Fast X</td>\n",
       "      <td>over many missions and against impossible odds...</td>\n",
       "    </tr>\n",
       "    <tr>\n",
       "      <th>1</th>\n",
       "      <td>603692</td>\n",
       "      <td>John Wick: Chapter 4</td>\n",
       "      <td>with the price on his head ever increasing, jo...</td>\n",
       "    </tr>\n",
       "    <tr>\n",
       "      <th>2</th>\n",
       "      <td>569094</td>\n",
       "      <td>Spider-Man: Across the Spider-Verse</td>\n",
       "      <td>after reuniting with gwen stacy, brooklyn’s fu...</td>\n",
       "    </tr>\n",
       "    <tr>\n",
       "      <th>3</th>\n",
       "      <td>536437</td>\n",
       "      <td>Hypnotic</td>\n",
       "      <td>a detective becomes entangled in a mystery inv...</td>\n",
       "    </tr>\n",
       "    <tr>\n",
       "      <th>4</th>\n",
       "      <td>667538</td>\n",
       "      <td>Transformers: Rise of the Beasts</td>\n",
       "      <td>when a new threat capable of destroying the en...</td>\n",
       "    </tr>\n",
       "  </tbody>\n",
       "</table>\n",
       "</div>"
      ],
      "text/plain": [
       "       id                                title  \\\n",
       "0  385687                               Fast X   \n",
       "1  603692                 John Wick: Chapter 4   \n",
       "2  569094  Spider-Man: Across the Spider-Verse   \n",
       "3  536437                             Hypnotic   \n",
       "4  667538     Transformers: Rise of the Beasts   \n",
       "\n",
       "                                                tags  \n",
       "0  over many missions and against impossible odds...  \n",
       "1  with the price on his head ever increasing, jo...  \n",
       "2  after reuniting with gwen stacy, brooklyn’s fu...  \n",
       "3  a detective becomes entangled in a mystery inv...  \n",
       "4  when a new threat capable of destroying the en...  "
      ]
     },
     "execution_count": 26,
     "metadata": {},
     "output_type": "execute_result"
    }
   ],
   "source": [
    "new_df.head()"
   ]
  },
  {
   "cell_type": "code",
   "execution_count": 27,
   "id": "e07fd343-106d-4381-a70a-be7c44a45bfe",
   "metadata": {},
   "outputs": [],
   "source": [
    "from sklearn.feature_extraction.text import CountVectorizer\n",
    "cv = CountVectorizer(max_features = 7000, stop_words = 'english')"
   ]
  },
  {
   "cell_type": "code",
   "execution_count": 28,
   "id": "811122f2-7d5e-4d82-a110-30f6e41e252a",
   "metadata": {},
   "outputs": [],
   "source": [
    "vectors = cv.fit_transform(new_df['tags']).toarray()"
   ]
  },
  {
   "cell_type": "code",
   "execution_count": 29,
   "id": "00573c62-e24e-4c14-a89d-625c34fa84c7",
   "metadata": {},
   "outputs": [
    {
     "data": {
      "text/plain": [
       "array([[0, 0, 0, ..., 0, 0, 0],\n",
       "       [0, 0, 0, ..., 0, 0, 0],\n",
       "       [0, 0, 0, ..., 0, 0, 0],\n",
       "       ...,\n",
       "       [0, 0, 0, ..., 0, 0, 0],\n",
       "       [0, 0, 0, ..., 0, 0, 0],\n",
       "       [0, 0, 0, ..., 0, 0, 0]])"
      ]
     },
     "execution_count": 29,
     "metadata": {},
     "output_type": "execute_result"
    }
   ],
   "source": [
    "vectors"
   ]
  },
  {
   "cell_type": "code",
   "execution_count": 30,
   "id": "a36467e5-dbb5-4400-8037-0c5c0e603da0",
   "metadata": {},
   "outputs": [
    {
     "data": {
      "text/plain": [
       "7000"
      ]
     },
     "execution_count": 30,
     "metadata": {},
     "output_type": "execute_result"
    }
   ],
   "source": [
    "len(cv.get_feature_names_out())"
   ]
  },
  {
   "cell_type": "code",
   "execution_count": 31,
   "id": "e0013002-7f89-4fb7-b6c2-2fce30e70e56",
   "metadata": {},
   "outputs": [
    {
     "name": "stdout",
     "output_type": "stream",
     "text": [
      "Requirement already satisfied: nltk in c:\\users\\ms1\\appdata\\local\\programs\\python\\python312\\lib\\site-packages (3.9.1)\n",
      "Requirement already satisfied: click in c:\\users\\ms1\\appdata\\local\\programs\\python\\python312\\lib\\site-packages (from nltk) (8.1.7)\n",
      "Requirement already satisfied: joblib in c:\\users\\ms1\\appdata\\local\\programs\\python\\python312\\lib\\site-packages (from nltk) (1.4.2)\n",
      "Requirement already satisfied: regex>=2021.8.3 in c:\\users\\ms1\\appdata\\local\\programs\\python\\python312\\lib\\site-packages (from nltk) (2024.11.6)\n",
      "Requirement already satisfied: tqdm in c:\\users\\ms1\\appdata\\local\\programs\\python\\python312\\lib\\site-packages (from nltk) (4.67.1)\n",
      "Requirement already satisfied: colorama in c:\\users\\ms1\\appdata\\local\\programs\\python\\python312\\lib\\site-packages (from click->nltk) (0.4.6)\n"
     ]
    },
    {
     "name": "stderr",
     "output_type": "stream",
     "text": [
      "\n",
      "[notice] A new release of pip is available: 25.0.1 -> 25.1.1\n",
      "[notice] To update, run: python.exe -m pip install --upgrade pip\n"
     ]
    }
   ],
   "source": [
    "!pip install nltk\n",
    "import nltk\n",
    "from nltk.stem.porter import PorterStemmer\n",
    "ps = PorterStemmer()"
   ]
  },
  {
   "cell_type": "code",
   "execution_count": 32,
   "id": "805fcb3c-c661-47ae-b990-aa42488b4291",
   "metadata": {},
   "outputs": [],
   "source": [
    "def stem(text):\n",
    "    y = []\n",
    "\n",
    "    for i in text.split():\n",
    "        y.append(ps.stem(i))\n",
    "\n",
    "    return \" \".join(y)"
   ]
  },
  {
   "cell_type": "code",
   "execution_count": 33,
   "id": "d1f54255-e04e-451e-b413-2609f0d9a65f",
   "metadata": {},
   "outputs": [
    {
     "name": "stderr",
     "output_type": "stream",
     "text": [
      "C:\\Users\\MS1\\AppData\\Local\\Temp\\ipykernel_2040\\3213734980.py:1: SettingWithCopyWarning: \n",
      "A value is trying to be set on a copy of a slice from a DataFrame.\n",
      "Try using .loc[row_indexer,col_indexer] = value instead\n",
      "\n",
      "See the caveats in the documentation: https://pandas.pydata.org/pandas-docs/stable/user_guide/indexing.html#returning-a-view-versus-a-copy\n",
      "  new_df['tags'] = new_df['tags'].apply(stem)\n"
     ]
    }
   ],
   "source": [
    "new_df['tags'] = new_df['tags'].apply(stem)"
   ]
  },
  {
   "cell_type": "code",
   "execution_count": 34,
   "id": "ff29a2d0-e228-4120-8d73-bf1dd84e274f",
   "metadata": {},
   "outputs": [
    {
     "data": {
      "text/html": [
       "<div>\n",
       "<style scoped>\n",
       "    .dataframe tbody tr th:only-of-type {\n",
       "        vertical-align: middle;\n",
       "    }\n",
       "\n",
       "    .dataframe tbody tr th {\n",
       "        vertical-align: top;\n",
       "    }\n",
       "\n",
       "    .dataframe thead th {\n",
       "        text-align: right;\n",
       "    }\n",
       "</style>\n",
       "<table border=\"1\" class=\"dataframe\">\n",
       "  <thead>\n",
       "    <tr style=\"text-align: right;\">\n",
       "      <th></th>\n",
       "      <th>id</th>\n",
       "      <th>title</th>\n",
       "      <th>tags</th>\n",
       "    </tr>\n",
       "  </thead>\n",
       "  <tbody>\n",
       "    <tr>\n",
       "      <th>0</th>\n",
       "      <td>385687</td>\n",
       "      <td>Fast X</td>\n",
       "      <td>over mani mission and against imposs odds, dom...</td>\n",
       "    </tr>\n",
       "    <tr>\n",
       "      <th>1</th>\n",
       "      <td>603692</td>\n",
       "      <td>John Wick: Chapter 4</td>\n",
       "      <td>with the price on hi head ever increasing, joh...</td>\n",
       "    </tr>\n",
       "    <tr>\n",
       "      <th>2</th>\n",
       "      <td>569094</td>\n",
       "      <td>Spider-Man: Across the Spider-Verse</td>\n",
       "      <td>after reunit with gwen stacy, brooklyn’ full-t...</td>\n",
       "    </tr>\n",
       "    <tr>\n",
       "      <th>3</th>\n",
       "      <td>536437</td>\n",
       "      <td>Hypnotic</td>\n",
       "      <td>a detect becom entangl in a mysteri involv hi ...</td>\n",
       "    </tr>\n",
       "    <tr>\n",
       "      <th>4</th>\n",
       "      <td>667538</td>\n",
       "      <td>Transformers: Rise of the Beasts</td>\n",
       "      <td>when a new threat capabl of destroy the entir ...</td>\n",
       "    </tr>\n",
       "  </tbody>\n",
       "</table>\n",
       "</div>"
      ],
      "text/plain": [
       "       id                                title  \\\n",
       "0  385687                               Fast X   \n",
       "1  603692                 John Wick: Chapter 4   \n",
       "2  569094  Spider-Man: Across the Spider-Verse   \n",
       "3  536437                             Hypnotic   \n",
       "4  667538     Transformers: Rise of the Beasts   \n",
       "\n",
       "                                                tags  \n",
       "0  over mani mission and against imposs odds, dom...  \n",
       "1  with the price on hi head ever increasing, joh...  \n",
       "2  after reunit with gwen stacy, brooklyn’ full-t...  \n",
       "3  a detect becom entangl in a mysteri involv hi ...  \n",
       "4  when a new threat capabl of destroy the entir ...  "
      ]
     },
     "execution_count": 34,
     "metadata": {},
     "output_type": "execute_result"
    }
   ],
   "source": [
    "new_df.head()"
   ]
  },
  {
   "cell_type": "code",
   "execution_count": 35,
   "id": "76f7080f-da1b-4c3e-b2b0-37a4dd3a74a9",
   "metadata": {},
   "outputs": [],
   "source": [
    "from sklearn.metrics.pairwise import cosine_similarity"
   ]
  },
  {
   "cell_type": "code",
   "execution_count": 36,
   "id": "18d4be8e-c491-4383-9d4f-f844daeab0a4",
   "metadata": {},
   "outputs": [
    {
     "data": {
      "text/plain": [
       "array([[1.        , 0.11447276, 0.07271792, ..., 0.07749843, 0.06448259,\n",
       "        0.        ],\n",
       "       [0.11447276, 1.        , 0.0513327 , ..., 0.0410305 , 0.        ,\n",
       "        0.        ],\n",
       "       [0.07271792, 0.0513327 , 1.        , ..., 0.0695048 , 0.        ,\n",
       "        0.01857594],\n",
       "       ...,\n",
       "       [0.07749843, 0.0410305 , 0.0695048 , ..., 1.        , 0.04622502,\n",
       "        0.08908708],\n",
       "       [0.06448259, 0.        , 0.        , ..., 0.04622502, 1.        ,\n",
       "        0.        ],\n",
       "       [0.        , 0.        , 0.01857594, ..., 0.08908708, 0.        ,\n",
       "        1.        ]])"
      ]
     },
     "execution_count": 36,
     "metadata": {},
     "output_type": "execute_result"
    }
   ],
   "source": [
    "similarity = cosine_similarity(vectors)\n",
    "similarity"
   ]
  },
  {
   "cell_type": "code",
   "execution_count": 37,
   "id": "4a255bb1-36a1-49c2-a597-4906dea26480",
   "metadata": {},
   "outputs": [
    {
     "data": {
      "text/html": [
       "<div>\n",
       "<style scoped>\n",
       "    .dataframe tbody tr th:only-of-type {\n",
       "        vertical-align: middle;\n",
       "    }\n",
       "\n",
       "    .dataframe tbody tr th {\n",
       "        vertical-align: top;\n",
       "    }\n",
       "\n",
       "    .dataframe thead th {\n",
       "        text-align: right;\n",
       "    }\n",
       "</style>\n",
       "<table border=\"1\" class=\"dataframe\">\n",
       "  <thead>\n",
       "    <tr style=\"text-align: right;\">\n",
       "      <th></th>\n",
       "      <th>id</th>\n",
       "      <th>title</th>\n",
       "      <th>tags</th>\n",
       "    </tr>\n",
       "  </thead>\n",
       "  <tbody>\n",
       "    <tr>\n",
       "      <th>0</th>\n",
       "      <td>385687</td>\n",
       "      <td>Fast X</td>\n",
       "      <td>over mani mission and against imposs odds, dom...</td>\n",
       "    </tr>\n",
       "    <tr>\n",
       "      <th>1</th>\n",
       "      <td>603692</td>\n",
       "      <td>John Wick: Chapter 4</td>\n",
       "      <td>with the price on hi head ever increasing, joh...</td>\n",
       "    </tr>\n",
       "    <tr>\n",
       "      <th>2</th>\n",
       "      <td>569094</td>\n",
       "      <td>Spider-Man: Across the Spider-Verse</td>\n",
       "      <td>after reunit with gwen stacy, brooklyn’ full-t...</td>\n",
       "    </tr>\n",
       "    <tr>\n",
       "      <th>3</th>\n",
       "      <td>536437</td>\n",
       "      <td>Hypnotic</td>\n",
       "      <td>a detect becom entangl in a mysteri involv hi ...</td>\n",
       "    </tr>\n",
       "    <tr>\n",
       "      <th>4</th>\n",
       "      <td>667538</td>\n",
       "      <td>Transformers: Rise of the Beasts</td>\n",
       "      <td>when a new threat capabl of destroy the entir ...</td>\n",
       "    </tr>\n",
       "    <tr>\n",
       "      <th>5</th>\n",
       "      <td>890771</td>\n",
       "      <td>The Black Demon</td>\n",
       "      <td>oilman paul sturges' idyl famili vacat turn in...</td>\n",
       "    </tr>\n",
       "    <tr>\n",
       "      <th>6</th>\n",
       "      <td>447277</td>\n",
       "      <td>The Little Mermaid</td>\n",
       "      <td>the youngest of king triton’ daughters, and th...</td>\n",
       "    </tr>\n",
       "    <tr>\n",
       "      <th>7</th>\n",
       "      <td>76600</td>\n",
       "      <td>Avatar: The Way of Water</td>\n",
       "      <td>set more than a decad after the event of the f...</td>\n",
       "    </tr>\n",
       "    <tr>\n",
       "      <th>8</th>\n",
       "      <td>713704</td>\n",
       "      <td>Evil Dead Rise</td>\n",
       "      <td>three sibl find an ancient vinyl that give bir...</td>\n",
       "    </tr>\n",
       "    <tr>\n",
       "      <th>9</th>\n",
       "      <td>1018494</td>\n",
       "      <td>Operation Seawolf</td>\n",
       "      <td>dure the last day of world war ii, germany, de...</td>\n",
       "    </tr>\n",
       "  </tbody>\n",
       "</table>\n",
       "</div>"
      ],
      "text/plain": [
       "        id                                title  \\\n",
       "0   385687                               Fast X   \n",
       "1   603692                 John Wick: Chapter 4   \n",
       "2   569094  Spider-Man: Across the Spider-Verse   \n",
       "3   536437                             Hypnotic   \n",
       "4   667538     Transformers: Rise of the Beasts   \n",
       "5   890771                      The Black Demon   \n",
       "6   447277                   The Little Mermaid   \n",
       "7    76600             Avatar: The Way of Water   \n",
       "8   713704                       Evil Dead Rise   \n",
       "9  1018494                    Operation Seawolf   \n",
       "\n",
       "                                                tags  \n",
       "0  over mani mission and against imposs odds, dom...  \n",
       "1  with the price on hi head ever increasing, joh...  \n",
       "2  after reunit with gwen stacy, brooklyn’ full-t...  \n",
       "3  a detect becom entangl in a mysteri involv hi ...  \n",
       "4  when a new threat capabl of destroy the entir ...  \n",
       "5  oilman paul sturges' idyl famili vacat turn in...  \n",
       "6  the youngest of king triton’ daughters, and th...  \n",
       "7  set more than a decad after the event of the f...  \n",
       "8  three sibl find an ancient vinyl that give bir...  \n",
       "9  dure the last day of world war ii, germany, de...  "
      ]
     },
     "execution_count": 37,
     "metadata": {},
     "output_type": "execute_result"
    }
   ],
   "source": [
    "new_df.head(10)"
   ]
  },
  {
   "cell_type": "code",
   "execution_count": 41,
   "id": "34f5699c-235a-4e93-be90-540787f80122",
   "metadata": {},
   "outputs": [
    {
     "data": {
      "text/html": [
       "<div>\n",
       "<style scoped>\n",
       "    .dataframe tbody tr th:only-of-type {\n",
       "        vertical-align: middle;\n",
       "    }\n",
       "\n",
       "    .dataframe tbody tr th {\n",
       "        vertical-align: top;\n",
       "    }\n",
       "\n",
       "    .dataframe thead th {\n",
       "        text-align: right;\n",
       "    }\n",
       "</style>\n",
       "<table border=\"1\" class=\"dataframe\">\n",
       "  <thead>\n",
       "    <tr style=\"text-align: right;\">\n",
       "      <th></th>\n",
       "      <th>id</th>\n",
       "      <th>title</th>\n",
       "      <th>tags</th>\n",
       "    </tr>\n",
       "  </thead>\n",
       "  <tbody>\n",
       "    <tr>\n",
       "      <th>3551</th>\n",
       "      <td>283445</td>\n",
       "      <td>Sinister 2</td>\n",
       "      <td>a young mother and her twin son move into a ru...</td>\n",
       "    </tr>\n",
       "  </tbody>\n",
       "</table>\n",
       "</div>"
      ],
      "text/plain": [
       "          id       title                                               tags\n",
       "3551  283445  Sinister 2  a young mother and her twin son move into a ru..."
      ]
     },
     "execution_count": 41,
     "metadata": {},
     "output_type": "execute_result"
    }
   ],
   "source": [
    "new_df[new_df['title'] == 'Sinister 2'].index"
   ]
  },
  {
   "cell_type": "code",
   "execution_count": 44,
   "id": "55bc5649-3727-4f11-b4d3-70574340457b",
   "metadata": {},
   "outputs": [],
   "source": [
    "def recommend(movie):\n",
    "    movie_index = new_df[new_df['title'] == movie].index[0]\n",
    "    distances = similarity[movie_index]\n",
    "    movie_list = sorted(list(enumerate(distances)), reverse = True, key = lambda x:x[1])[1:6]\n",
    "\n",
    "    for i in movie_list:\n",
    "        print(new_df.iloc[i[0]].title)"
   ]
  },
  {
   "cell_type": "code",
   "execution_count": 46,
   "id": "7968dfbf-875e-45ac-9637-48c07872fd2e",
   "metadata": {},
   "outputs": [
    {
     "name": "stdout",
     "output_type": "stream",
     "text": [
      "The Fate of the Furious\n",
      "Furious 7\n",
      "Hereditary\n",
      "Fast & Furious\n",
      "Fast Five\n"
     ]
    }
   ],
   "source": [
    "recommend('Fast X')"
   ]
  },
  {
   "cell_type": "code",
   "execution_count": 47,
   "id": "0f101508-2f9b-43be-b9f7-8783b14ecf9a",
   "metadata": {},
   "outputs": [],
   "source": [
    "import pickle"
   ]
  },
  {
   "cell_type": "code",
   "execution_count": 48,
   "id": "6716590f-f79b-45ec-a887-196d7bb8bc99",
   "metadata": {},
   "outputs": [],
   "source": [
    "pickle.dump(new_df, open('movie.pkl', 'wb'))"
   ]
  },
  {
   "cell_type": "code",
   "execution_count": 50,
   "id": "034946f9-828b-40bd-8d0d-dc2fd254fdad",
   "metadata": {},
   "outputs": [],
   "source": [
    "pickle.dump(similarity, open('similarity.pkl', 'wb'))"
   ]
  },
  {
   "cell_type": "code",
   "execution_count": null,
   "id": "bd35ec40-64d3-4af3-8e7f-dd1faedc7875",
   "metadata": {},
   "outputs": [],
   "source": []
  }
 ],
 "metadata": {
  "kernelspec": {
   "display_name": "Python 3 (ipykernel)",
   "language": "python",
   "name": "python3"
  },
  "language_info": {
   "codemirror_mode": {
    "name": "ipython",
    "version": 3
   },
   "file_extension": ".py",
   "mimetype": "text/x-python",
   "name": "python",
   "nbconvert_exporter": "python",
   "pygments_lexer": "ipython3",
   "version": "3.12.9"
  }
 },
 "nbformat": 4,
 "nbformat_minor": 5
}
